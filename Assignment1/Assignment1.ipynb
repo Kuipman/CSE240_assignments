{
 "cells": [
  {
   "cell_type": "markdown",
   "metadata": {
    "id": "GWCPCDvGW_cm"
   },
   "source": [
    "# Assignment 1\n",
    "\n",
    "\n",
    "You must submit your notebook by running `python3 -m autograder.cli.submission.submit Assignment1.ipynb` from your local repository.\n",
    "\n",
    "To write legible answers you will need to be familiar with both [Markdown](https://github.com/adam-p/markdown-here/wiki/Markdown-Cheatsheet) and [Latex](https://www.latex-tutorial.com/tutorials/amsmath/)\n",
    "\n",
    "Before you turn this problem in, make sure everything runs as expected. To do so, restart the kernel and run all cells (in the menubar, select Runtime→→Restart and run all).\n",
    "\n",
    "#### Show your work!\n",
    "Whenever you are asked to find the solution to a problem, be sure to also **show how you arrived** at your answer.\n",
    "\n",
    "Make sure you fill in any place that says \"YOUR CODE HERE\" or \"YOUR ANSWERS HERE\", as well as your name below:\n"
   ]
  },
  {
   "cell_type": "markdown",
   "metadata": {
    "id": "Hc-OUgRxWIPM"
   },
   "source": [
    "## Q1\n",
    "\n",
    "![figure](https://docs.google.com/drawings/d/e/2PACX-1vR3cNeZWfHNbPXRGyZrKazhI2WNM9wroJoAsshbD7LzwEBd4k0W_zu-T30_O_4iHC2qpKRxCRBA1IjV/pub?w=480&h=320)\n",
    "\n",
    "Which solution would the following search algorithms find to move from node *Start* to node *Goal* if run the algorithm on the search graph above? Break any ties alphabetically. Please give each answer in a form similar to this example: `[start, 'a', 'd', goal]`\n",
    "\n",
    "a. Breadth-First Search\n",
    "\n",
    "b. Depth-First Search\n",
    "\n",
    "c. Uniform Cost Search\n",
    "\n",
    "Explain by drawing an equivalent search tree for each of them. Draw the search trees graphically. A good way to do this is through [Google Drawings](https://docs.google.com/drawings)\n",
    "\n"
   ]
  },
  {
   "cell_type": "code",
   "execution_count": 22,
   "metadata": {},
   "outputs": [],
   "source": [
    "# YOUR ANSWERS HERE\n",
    "def question1():\n",
    "    \"\"\"\n",
    "    Description:\n",
    "    [Enter a description of your reasoning for each of a through c here.]\n",
    "    a: From Start, tree branches to nodes a and d. a moves to b, then next move has d move to goal. Since goal is reached,\n",
    "    the 'd' side is what is returned.\n",
    "\n",
    "    b: From Start, tree branches to node a and d. a moves to b, and since this is the deepest branch this moves next to c and goal.\n",
    "    c comes first numerically and can move further, so next this moves from c to goal.\n",
    "\n",
    "    c: From Start, the fringe receives a1 and d5. a1 is considered explored and the next step moves onto b4, which is then explored. c5 and goal(5) are\n",
    "    reached, ending that branch. On the d5 side, d5 becomes explored and goal(6) is reached. The optimal goal is goal(5).\n",
    "    \"\"\"\n",
    "    start = 'Start'\n",
    "    goal = 'Goal'\n",
    "    \n",
    "    a = [start, 'd', goal]\n",
    "    b = [start, 'a', 'b', 'c', goal]\n",
    "    c = [start, 'a', 'b', goal]\n",
    "    \n",
    "    return a, b, c"
   ]
  },
  {
   "cell_type": "markdown",
   "metadata": {
    "id": "2cCZFudXW_cp"
   },
   "source": [
    "## Q2\n",
    "Answer the following questions about the search problem shown in the figure below. Break any ties alphabetically. For the questions that ask for a path, please give your answers in a form similar to this example: `[start, 'a', 'd', goal]`. For questions `e` and `f`, please return either `True` or `False`.\n",
    "\n",
    "Start − a − d − Goal\n",
    "\n",
    "![figure](https://docs.google.com/drawings/d/e/2PACX-1vS4nUoOVGzXNZTHZLsY6wZ6VyjtPlA4mhcvWs-6mgwaeDwoMftqbYyytgBVmgOnqLoUGZbRt8cuQNfA/pub?w=640&h=480)\n",
    "\n",
    "What path would be returned for this search problem using each of the following graph search algorithms?\n",
    "\n",
    "a. Breadth-First Search\n",
    "\n",
    "b. Uniform Cost Search\n",
    "\n",
    "c. Depth-First Search\n",
    "\n",
    "d. A* Search (using an appropriate heuristic function). Explain what heuristc function you used.\n",
    "\n",
    "\n",
    "\n",
    "Consider the heuristics for this problem shown in the table below.\n",
    "\n",
    "|     State     |     h1     |     h2        |\n",
    "|---------------|------------|---------------|\n",
    "|     start     |     5      |     4         |\n",
    "|     a         |     3      |     2         |\n",
    "|     b         |     6      |     6         |\n",
    "|     c         |     2      |     1         |\n",
    "|     d         |     3      |     3         |\n",
    "|     goal      |     0      |     0         |\n",
    "\n",
    "\n",
    "e. Is h1 consistent?\n",
    "\n",
    "f. Is h2 consistent?"
   ]
  },
  {
   "cell_type": "code",
   "execution_count": 23,
   "metadata": {},
   "outputs": [],
   "source": [
    "# YOUR ANSWERS HERE\n",
    "def question2():\n",
    "    \"\"\"\n",
    "    Description:\n",
    "    [Enter a description of your reasoning for each of a through f here.]\n",
    "    a: Breadth-first - From Start, moves to a and goal as the two branches. Goal is reached.\n",
    "\n",
    "    b: Start moves from fringe to explored. a1 moves to fringe, from there b4 and c2 move to fringe and a is explored. c2 moves to d3 and c is explored.\n",
    "    d moves to goal(6).\n",
    "\n",
    "    c: Depth-first - From Start, moves to a and goal as the two branches. a comes first alphabetically, which branches to b and c. b comes first,\n",
    "    moves to d. d moves to goal.\n",
    "\n",
    "    d: The heuristic for each node is its shortest distance (based on other node lengths) from the goal. Not organized in a grid so manhattan/euclidean methods don't work.\n",
    "    Start moves from fringe to explored. start -> a is a value of 4 (1 + 3) and is chosen over start -> goal's 12. a -> b = 10 (1 + 3 + 6) and a -> c = 4 (1 + 1 + 2) so the latter is\n",
    "    chosen. Only option here is s -> a -> c -> goal = (1 + 1 + 2 + 0) = 4. This is lower than the b option and the start -> goal option, so the algorithm ends here.\n",
    "\n",
    "    e: The heuristic is consistent iff it is less than or equal to the distance between the node and the goal. Here, start -> a = 1, a -> c = 1, c -> goal = 2.\n",
    "    Therefore start -> a -> c -> goal = 4. Since 5 > 4, our heuristic for the start node violates the rules for consistency.\n",
    "\n",
    "    f: Here, the problem is encountered at node a. For a heuristic h to be consistent the cost to move from a previous node to the given node + the given node's heuristic - the\n",
    "    previous node's heuristic must be greater than or equal to 0. In other words:\n",
    "                                                                Cost(s,a) + h(succ(s,a)) - h(s) >= 0\n",
    "\n",
    "    Moving between start and a has a cost of 1, the heuristic at a is 2 and the heuristic at start is 4. Therefore:\n",
    "                                                                1 + 2 - 4 = -1\n",
    "    -1 is less than 0, meaning h2 cannot be consistent.\n",
    "\n",
    "    \"\"\"\n",
    "    start = 'Start'\n",
    "    goal = 'Goal'\n",
    "       \n",
    "    a = [start, goal]\n",
    "    b = [start, 'a', 'c', goal]\n",
    "    c = [start, 'a', 'b', 'd', goal]\n",
    "    d = [start, 'a', 'c', goal]\n",
    "    e = False\n",
    "    f = False\n",
    "    \n",
    "    return a, b, c, d, e, f"
   ]
  },
  {
   "cell_type": "markdown",
   "metadata": {
    "id": "_uecj_VM0l1a"
   },
   "source": [
    "## Chess \n",
    "The remaining questions in this assignment, as well as all the questions in the following assignment, will make use of Python's chess module.\n",
    "\n",
    "If you're not familiar with this, it would probably be beneficial to spend some time going over it before getting started with the rest of the assignment. The official documentation is one place to get started: `https://python-chess.readthedocs.io/en/latest/`\n"
   ]
  },
  {
   "cell_type": "markdown",
   "metadata": {},
   "source": [
    "## The Knight Errant Problem\n",
    "The knight begins their quest in the bottom left-hand corner of the board, the tile 'A1'. Their quest will end when they reach the upper right-hand corner of the board, the tile 'H8'. Along the way, the knight will pass through many other tiles on the board. \n",
    "\n",
    "For each of the following questions, implement the corresponding search algorithm and return the list of tiles visited, in order. In Python's chess module, each tile has an integer id corresponding to it, where `'A1' = 0`, `'A2' = 1`, etc, and they are really just treated as integers by the chess module. Each chess square is equivalent to a number ranging from `0` to `63`, going from left to right, one row at at a time.\n",
    "\n",
    "For example, the knight starting on tile `'A1' = 0` and moving through tiles `'A1' = 0`, `'B3' = 17`, and `'D2' = 11`, in that order, before finally reaching the destination `'F1' = 5` would be represented by the list `[0, 17, 11, 5]`. Please note, this conversion from `A1` to `0` happens automatically, so please just don't be confused if you added a chess Tile to your list and saw it as an integer when you print it out; it is really the same thing.\n",
    "\n",
    "As one final piece of advice, it is not necessary to invent any grand new functions here to help you interface with the chess board. If you have an idea for something and it seems like too much, there may very well be a built-in chess module function that can do it for you. Please have a look before diving in head-first.\n",
    "\n",
    "A function to check whether a given board meets the goal condition is provided here for you below:"
   ]
  },
  {
   "cell_type": "code",
   "execution_count": 1,
   "metadata": {},
   "outputs": [],
   "source": [
    "import chess\n",
    "\n",
    "def goal_reached(board: chess.Board, goal_position: chess.Square):\n",
    "    \"\"\"\n",
    "    This function informs us as to whether the goal condition has been met during our search\n",
    "\n",
    "    Parameters:\n",
    "    - board: the chess board that the knight is moving upon\n",
    "\n",
    "    Returns:\n",
    "    - True: if the knight is on the destination tile 'H8'\n",
    "    - False: otherwise\n",
    "    \"\"\"\n",
    "    p = board.piece_at(goal_position)\n",
    "    return p and p.piece_type == chess.KNIGHT and p.color == chess.WHITE"
   ]
  },
  {
   "cell_type": "code",
   "execution_count": 19,
   "metadata": {},
   "outputs": [
    {
     "name": "stdout",
     "output_type": "stream",
     "text": [
      "B3\n",
      "C2\n"
     ]
    }
   ],
   "source": [
    "# Test Block 1: Print available legal moves\n",
    "# Expected output: Legal moves from knight's initial position A1 to positions B3 and C2\n",
    "\n",
    "test_board = chess.Board(\"8/8/8/8/8/8/8/N7\")\n",
    "legal_moves = test_board.legal_moves\n",
    "for move in legal_moves:\n",
    "    destination = chess.square_name(move.to_square).upper()\n",
    "    print(destination)"
   ]
  },
  {
   "cell_type": "code",
   "execution_count": 17,
   "metadata": {},
   "outputs": [
    {
     "name": "stdout",
     "output_type": "stream",
     "text": [
      ". . . . . . . .\n",
      ". . . . . . . .\n",
      ". . . . . . . .\n",
      ". . . . . . . .\n",
      ". . . . . . . .\n",
      ". . . . . . . .\n",
      ". . . . . N . .\n",
      ". . . . . . . .\n"
     ]
    }
   ],
   "source": [
    "# Test Block 2: Move knight back and forth by clearing board and setting piece manually back into new position\n",
    "\n",
    "test_board.clear_board()\n",
    "# test_board.set_piece_at(chess.E4, chess.Piece(chess.KNIGHT, chess.WHITE))\n",
    "test_board.set_piece_at(13, chess.Piece(chess.KNIGHT, chess.WHITE))            # realizing chess.E4 is just an integer helped a lot\n",
    "print(test_board)"
   ]
  },
  {
   "cell_type": "markdown",
   "metadata": {},
   "source": [
    "## Q3\n",
    "Implement the **Breadth-First Search** (BFS) algorithm to find the order of **expanded** tiles (not the final path) for the the Knight Errant Problem.\n",
    "\n",
    "Break ties in the order given by `board.legal_moves`. Please give your answer in a form similar to this example: `[0, 31, 15, ..., 63]`"
   ]
  },
  {
   "cell_type": "code",
   "execution_count": 12,
   "metadata": {},
   "outputs": [],
   "source": [
    "def BFS(board: chess.Board, goal_position: chess.Square):\n",
    "    \"\"\"\n",
    "    This function implements the breath first search algorithm\n",
    "    \n",
    "    Parameters:\n",
    "    - board: the chess board that the knight is moving upon\n",
    "    \n",
    "    Returns:\n",
    "    A list containing the visited tile values in the order they were visited with starting tile\n",
    "    always being the first tile and the goal tile always being the last tile\n",
    "    \"\"\"\n",
    "    visited_nodes_in_order = []\n",
    "    \n",
    "    # YOUR CODE HERE\n",
    "    # raise NotImplementedError()\n",
    "\n",
    "    class Node:\n",
    "        def __init__(self, location, path):\n",
    "            self.location = location         # current location of node\n",
    "            self.path = path                 # nodes traversed to reach current node (this is a list)\n",
    "\n",
    "\n",
    "    \"\"\"\n",
    "    Strategy:\n",
    "\n",
    "    The board has already been created with a single knight at A0 and the target square being H8, on the opposite side of the board.\n",
    "    For each position the knight is in, we want to generate a list of legal moves the knight can take, without moving to a square it has already been to. Order of moves\n",
    "    the knight will pass over is smallest integer value first.\n",
    "\n",
    "    Depth of the moves will be taken into consideration. In essence: the list of legal moves that can be taken from a node at depth 1 are all depth 2. Think of the triangle\n",
    "    visualizations we've seen up to this point.\n",
    "\n",
    "    So: we first initialize our starting node with initial position = A1 (0) and no current path. Each node keeps track of the path taken to reach that node.\n",
    "    After a brief check if our problem causes the goal condition (it probably won't) we initialize the frontier (FIFO queue with our node as the only element) \n",
    "    and an 'explored' list to prevent repeat locations. (Note: path cost will be tracked by the length of the node's path list)\n",
    "\n",
    "    From here we iterate. For each iteration:\n",
    "    1) Set the color to white (this resolves an issue where the color by default sets to black after a move and we can't move again)\n",
    "    2) Check if the frontier is empty. If it is, we were unable to find a solution\n",
    "    3) Pop the first available node from the frontier. Add its location to 'explored'\n",
    "    4) For each legal move from this position:\n",
    "        a) Create a child node containing the new location, the path_cost (previous path_cost + 1), and the path (previous path + previous location)\n",
    "        b) Check if this node's location is not already in the frontier or explored lists. If not:\n",
    "            i) Check if the node is the goal_state. Return the solution if so\n",
    "            ii) Otherwise, insert this child node into the frontier.\n",
    "    \"\"\"\n",
    "\n",
    "    initial_node = Node(0, [])   # first location at A1 and an empty path\n",
    "    if goal_reached(board, 63): return visited_nodes_in_order\n",
    "    frontier = [initial_node]\n",
    "    frontier_pointer = 0          # yes there's a more mindful way to do this but this won't feasibly grow that large\n",
    "    explored = []\n",
    "\n",
    "    # while(True):\n",
    "    #     # if frontier.sizeof() < frontier_pointer: return 0      # frontier is empty\n",
    "    #     node = frontier[frontier_pointer]\n",
    "    #     frontier_pointer += 1\n",
    "    #     explored.append(node)\n",
    "    #     print(explored)\n",
    "    \n",
    "    node = frontier[frontier_pointer]\n",
    "    frontier_pointer += 1\n",
    "    explored.append(node)\n",
    "\n",
    "\n",
    "\n",
    "    \n",
    "    return visited_nodes_in_order\n"
   ]
  },
  {
   "cell_type": "code",
   "execution_count": 15,
   "metadata": {},
   "outputs": [
    {
     "name": "stdout",
     "output_type": "stream",
     "text": [
      ". . . . . . . .\n",
      ". . . . . . . .\n",
      ". . . . . . . .\n",
      ". . . . . . . .\n",
      ". . . . . . . .\n",
      ". . . . . . . .\n",
      ". . . . . . . .\n",
      "N . . . . . . .\n",
      "[<__main__.BFS.<locals>.Node object at 0x74d7a4588370>]\n",
      "[]\n"
     ]
    }
   ],
   "source": [
    "test_board = chess.Board(\"8/8/8/8/8/8/8/N7\")\n",
    "test_goal = chess.H8\n",
    "print(test_board)\n",
    "\n",
    "q3 = BFS(test_board, test_goal)\n",
    "print(q3)"
   ]
  },
  {
   "cell_type": "markdown",
   "metadata": {},
   "source": [
    "## Q4\n",
    "Implement the **Depth-First Search** (DFS) algorithm to find the order of **expanded** tiles (not the final path) for the the Knight Errant Problem.\n",
    "\n",
    "Break ties in the order given by `board.legal_moves`. Please give your answer in a form similar to this example: `[0, 31, 15, ..., 63]`"
   ]
  },
  {
   "cell_type": "code",
   "execution_count": 5,
   "metadata": {},
   "outputs": [],
   "source": [
    "def DFS(board: chess.Board, goal_position: chess.Square):\n",
    "    \"\"\"\n",
    "    This function implements the depth first search algorithm\n",
    "    \n",
    "    Parameters:\n",
    "    - board: the chess board that the knight is moving upon\n",
    "    \n",
    "    Returns:\n",
    "    A list containing the visited tile values in the order they were visited with starting tile\n",
    "    always being the first tile and the goal tile always being the last tile\n",
    "    \"\"\"\n",
    "    visited_nodes_in_order = []\n",
    "    \n",
    "    # YOUR CODE HERE\n",
    "    raise NotImplementedError()\n",
    "    \n",
    "    return visited_nodes_in_order\n"
   ]
  },
  {
   "cell_type": "code",
   "execution_count": null,
   "metadata": {},
   "outputs": [],
   "source": [
    "test_board = chess.Board(\"8/8/8/8/8/8/8/N7\")\n",
    "test_goal = chess.H8\n",
    "print(test_board)\n",
    "\n",
    "q4 = DFS(test_board, test_goal)\n",
    "print(q4)"
   ]
  },
  {
   "cell_type": "markdown",
   "metadata": {
    "id": "LM0yg5nnW_cx"
   },
   "source": [
    "## Q5\n",
    "Implement the **A* Search** (Textbook Section 3.5.2) algorithm to find the **final path found** for the Knight Errant Problem.\n",
    "\n",
    "#### A* Search\n",
    "---\n",
    "The most widely known form of best-first search is called **A∗ search** (pronounced \"A-star search\"). It evaluates nodes by combining $g(n)$, the cost to reach the node, and $h(n)$, the cost to get from the node to the goal:\n",
    "\n",
    "\\begin{equation*}\n",
    "f(n) = g(n) + h(n) .\n",
    "\\end{equation*}\n",
    "\n",
    "Since $g(n)$ gives the path cost from the start node to node $n$, and $h(n)$ is the estimated cost of the cheapest path from n to the goal, we have\n",
    "\n",
    "\n",
    "$f(n)$= estimated cost of the cheapest solution through $n$ .\n",
    "\n",
    "**NOTE:**\n",
    "- If two positions are considered equally good choices, take the node that appears first in board.legal_moves\n",
    "- You may also find the built-in function `chess.square_knight_distance(a, b)` useful here\n"
   ]
  },
  {
   "cell_type": "code",
   "execution_count": 6,
   "metadata": {},
   "outputs": [],
   "source": [
    "def a_star_search(board: chess.Board, goal_position: chess.Square):\n",
    "    \"\"\"\n",
    "    This function implements the A* search algorithm\n",
    "\n",
    "    Parameters:\n",
    "    - board: the chess board that the knight is moving upon\n",
    "\n",
    "    Returns:\n",
    "    A list containing the final path returned by A*, starting with the start tile's ID and ending with the goal tile's ID.\n",
    "    \"\"\"\n",
    "    optimal_path = []\n",
    "    \n",
    "    # YOUR CODE HERE\n",
    "    raise NotImplementedError()\n",
    "    \n",
    "    return optimal_path\n"
   ]
  },
  {
   "cell_type": "code",
   "execution_count": null,
   "metadata": {},
   "outputs": [],
   "source": [
    "test_board = chess.Board(\"8/8/8/8/8/8/8/N7\")\n",
    "test_goal = chess.H8\n",
    "print(test_board)\n",
    "\n",
    "q5 = a_star_search(test_board, test_goal)\n",
    "print(q5)\n"
   ]
  }
 ],
 "metadata": {
  "colab": {
   "collapsed_sections": [
    "Hc-OUgRxWIPM"
   ],
   "provenance": []
  },
  "kernelspec": {
   "display_name": "Python 3 (ipykernel)",
   "language": "python",
   "name": "python3"
  },
  "language_info": {
   "codemirror_mode": {
    "name": "ipython",
    "version": 3
   },
   "file_extension": ".py",
   "mimetype": "text/x-python",
   "name": "python",
   "nbconvert_exporter": "python",
   "pygments_lexer": "ipython3",
   "version": "3.10.12"
  }
 },
 "nbformat": 4,
 "nbformat_minor": 1
}
